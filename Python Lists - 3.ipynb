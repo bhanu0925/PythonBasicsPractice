{
 "cells": [
  {
   "cell_type": "markdown",
   "metadata": {},
   "source": [
    "## Question 1\n",
    "1. City = [‘Gurgaon’, ’Mumbai’, ’Bangalore\n",
    "\n",
    "    i) Print the second item from the list.\n",
    "    \n",
    "    ii) Change the value from \"Gurgaon\" to \"Kerala\"\n",
    "    \n",
    "    iii) Remove the last element of the list.\n",
    "    \n"
   ]
  },
  {
   "cell_type": "code",
   "execution_count": 41,
   "metadata": {},
   "outputs": [
    {
     "name": "stdout",
     "output_type": "stream",
     "text": [
      "Second item from the list :  Mumbai\n",
      "Change the value from \"Gurgaon\" to \"Kerala\" :  ['Kerala', 'Mumbai', 'Bangalore']\n",
      "Remove the last element of the list :  Bangalore\n",
      "The updated list :  ['Kerala', 'Mumbai']\n"
     ]
    }
   ],
   "source": [
    "City = ['Gurgaon', 'Mumbai', 'Bangalore']\n",
    "#i) Print the second item from the list.\n",
    "print('Second item from the list : ',City[1])\n",
    "#ii) Change the value from \"Gurgaon\" to \"Kerala\"\n",
    "City[0] = 'Kerala'\n",
    "print('Change the value from \"Gurgaon\" to \"Kerala\" : ',City)\n",
    "#iii) Remove the last element of the list.\n",
    "print('Remove the last element of the list : ',City.pop())\n",
    "print('The updated list : ', City)\n",
    "     "
   ]
  },
  {
   "cell_type": "markdown",
   "metadata": {},
   "source": [
    "## Question 2 \n",
    "Use negative indexing to print the last item in the list. Make a list by yourself."
   ]
  },
  {
   "cell_type": "code",
   "execution_count": 42,
   "metadata": {},
   "outputs": [
    {
     "name": "stdout",
     "output_type": "stream",
     "text": [
      "The last item in the list fetchng By Negative index :  Mysore\n"
     ]
    }
   ],
   "source": [
    "City2 = ['Gurgaon', 'Mumbai', 'Bangalore', 'Delhi', 'Mysore']\n",
    "#use negative indexing to print the last item in the list\n",
    "print(\"The last item in the list fetchng By Negative index : \", City2[-1])\n"
   ]
  },
  {
   "cell_type": "markdown",
   "metadata": {},
   "source": [
    "## Question 3\n",
    "\n",
    "Use a range of indexes to print the third, fourth, and fifth\n",
    "item in the list. Make a list by yourself."
   ]
  },
  {
   "cell_type": "code",
   "execution_count": 43,
   "metadata": {},
   "outputs": [
    {
     "name": "stdout",
     "output_type": "stream",
     "text": [
      "Printing third,fourth,fifth items from the list :  ['Bangalore', 'Delhi', 'Mysore']\n"
     ]
    }
   ],
   "source": [
    "City3 = ['Gurgaon', 'Mumbai', 'Bangalore', 'Delhi', 'Mysore', 'Kochi', 'Goa' ]\n",
    "print(\"Printing third,fourth,fifth items from the list : \", City3[2:5])"
   ]
  },
  {
   "cell_type": "markdown",
   "metadata": {},
   "source": [
    "## Question 4\n",
    "Remove the last element from the city list"
   ]
  },
  {
   "cell_type": "code",
   "execution_count": 47,
   "metadata": {},
   "outputs": [
    {
     "name": "stdout",
     "output_type": "stream",
     "text": [
      "Remove the last element of the list :  Bangalore\n",
      "The updated list :  ['Gurgaon', 'Mumbai']\n"
     ]
    }
   ],
   "source": [
    "City = ['Gurgaon', 'Mumbai', 'Bangalore']\n",
    "#Remove the last element of the list.\n",
    "print('Remove the last element of the list : ',City.pop())\n",
    "print('The updated list : ', City)"
   ]
  },
  {
   "cell_type": "markdown",
   "metadata": {},
   "source": [
    "## Question 5 \n",
    "fruits=[‘apple’,’lichi’,’guava’,’cherry’,’mango’,’watermelon’,’banana’]\n",
    "\n",
    "i) Add \"orange\" at the end of the above list.\n",
    "\n",
    "ii) Add \"lemon\" as the second item in the fruits list"
   ]
  },
  {
   "cell_type": "code",
   "execution_count": 61,
   "metadata": {},
   "outputs": [
    {
     "name": "stdout",
     "output_type": "stream",
     "text": [
      "Add \"orange\" at the end of the above list :  ['apple', 'lichi', 'guava', 'cherry', 'mango', 'watermelon', 'banana', 'orange']\n",
      "Add \"Lemon\" as the second item in the fruits list :  ['apple', 'Lemon', 'lichi', 'guava', 'cherry', 'mango', 'watermelon', 'banana', 'orange']\n"
     ]
    }
   ],
   "source": [
    "Fruits=['apple','lichi','guava','cherry','mango','watermelon','banana']\n",
    "#i) Add \"orange\" at the end of the above list.\n",
    "Fruits.append(\"orange\")\n",
    "print('Add \"orange\" at the end of the above list : ', Fruits)\n",
    "#ii) Add \"lemon\" as the second item in the fruits list\n",
    "Fruits.insert(1,\"Lemon\")\n",
    "print('Add \"Lemon\" as the second item in the fruits list : ',Fruits)"
   ]
  },
  {
   "cell_type": "markdown",
   "metadata": {},
   "source": [
    "## Question 6\n",
    "Remove ‘cherry’ from the fruit list given above."
   ]
  },
  {
   "cell_type": "code",
   "execution_count": 66,
   "metadata": {},
   "outputs": [
    {
     "name": "stdout",
     "output_type": "stream",
     "text": [
      "Remove ‘cherry’ from the fruit list :  ['apple', 'lichi', 'guava', 'mango', 'watermelon', 'banana']\n"
     ]
    }
   ],
   "source": [
    "Fruits=['apple','lichi','guava','cherry','mango','watermelon','banana']\n",
    "#Remove ‘cherry’ from the fruit list\n",
    "Fruits.remove('cherry')\n",
    "print('Remove ‘cherry’ from the fruit list : ', Fruits)\n"
   ]
  },
  {
   "cell_type": "markdown",
   "metadata": {},
   "source": [
    "## Question 7\n",
    "Write the python program to let the user input a list of numbers and print the list in descending order.\n"
   ]
  },
  {
   "cell_type": "code",
   "execution_count": 88,
   "metadata": {},
   "outputs": [
    {
     "name": "stdout",
     "output_type": "stream",
     "text": [
      "enter numbers with space : 5 6 7 8 1 2 3 4 2 123 67843 87\n",
      "sorted list in decending order :  [67843, 123, 87, 8, 7, 6, 5, 4, 3, 2, 2, 1]\n"
     ]
    }
   ],
   "source": [
    "# using map fun to map each user entry to list\n",
    "UserNumbers = list(map(int,input(\"enter numbers with space : \").split()))\n",
    "#sort the list in decending order\n",
    "UserNumbers.sort(reverse = True)\n",
    "print('sorted list in decending order : ',UserNumbers)"
   ]
  },
  {
   "cell_type": "markdown",
   "metadata": {},
   "source": [
    "## Question 8\n",
    "\n",
    "Write the python program to let the user input two lists and combine both the lists."
   ]
  },
  {
   "cell_type": "code",
   "execution_count": 99,
   "metadata": {},
   "outputs": [
    {
     "name": "stdout",
     "output_type": "stream",
     "text": [
      "List1 : 54353545\n",
      "['5', '4', '3', '5', '3', '5', '4', '5']\n",
      "List2 : fgdfhgdhhdgh\n",
      "['f', 'g', 'd', 'f', 'h', 'g', 'd', 'h', 'h', 'd', 'g', 'h']\n",
      "Combined list : ['5', '4', '3', '5', '3', '5', '4', '5', 'f', 'g', 'd', 'f', 'h', 'g', 'd', 'h', 'h', 'd', 'g', 'h']\n"
     ]
    }
   ],
   "source": [
    "# list1\n",
    "List1 = list(input(\"List1 : \"))\n",
    "print(List1)\n",
    "#List2\n",
    "List2 = list(input('List2 : '))\n",
    "print(List2)\n",
    "# combine two lists\n",
    "List3 = List1+List2\n",
    "print('Combined list :', List3)"
   ]
  },
  {
   "cell_type": "markdown",
   "metadata": {},
   "source": [
    "## Question 9\n",
    "\n",
    "List = [10, 45, 78, 11, 9, 23]. Shuffle this list."
   ]
  },
  {
   "cell_type": "code",
   "execution_count": 119,
   "metadata": {},
   "outputs": [
    {
     "name": "stdout",
     "output_type": "stream",
     "text": [
      "List shuffled :  [78, 9, 45, 23, 11, 10]\n"
     ]
    }
   ],
   "source": [
    "import random\n",
    "List1 = [10, 45, 78, 11, 9, 23]\n",
    "ListShuffled = random.shuffle(List1)\n",
    "print('List shuffled : ', List1)"
   ]
  },
  {
   "cell_type": "markdown",
   "metadata": {},
   "source": [
    "## Question 10\n",
    "\n",
    "x = [10, [3.141, 20, [30, 'baz', 2.718]], 'foo']\n",
    "\n",
    "i) What is the expression that returns the 'z' in 'baz'?\n",
    "\n",
    "ii) What expression returns the list ['baz', 2.718]?\n"
   ]
  },
  {
   "cell_type": "code",
   "execution_count": 128,
   "metadata": {},
   "outputs": [
    {
     "name": "stdout",
     "output_type": "stream",
     "text": [
      "[3.141, 20, [30, 'baz', 2.718]]\n",
      "[30, 'baz', 2.718]\n",
      "baz\n",
      "z\n",
      "['baz', 2.718]\n"
     ]
    }
   ],
   "source": [
    "x = [10, [3.141, 20, [30, 'baz', 2.718]], 'foo']\n",
    "print(x[1])\n",
    "print(x[1][2])\n",
    "print(x[1][2][1])\n",
    "print(x[1][2][1][2])\n",
    "\n",
    "print(x[1][2][1:])"
   ]
  },
  {
   "cell_type": "markdown",
   "metadata": {},
   "source": [
    "## Question 11\n",
    "\n",
    "Extract element 20 from the above list."
   ]
  },
  {
   "cell_type": "code",
   "execution_count": 129,
   "metadata": {},
   "outputs": [
    {
     "name": "stdout",
     "output_type": "stream",
     "text": [
      "20\n"
     ]
    }
   ],
   "source": [
    "x = [10, [3.141, 20, [30, 'baz', 2.718]], 'foo']\n",
    "print(x[1][1])"
   ]
  },
  {
   "cell_type": "markdown",
   "metadata": {},
   "source": [
    "## Question 12\n",
    "You have a list a = [1, 2, 7, 8]\n",
    "\n",
    "Write a Python statement using slice assignment that will fill in the missing values so that a equals [1, 2, 3, 4, 5, 6, 7, 8]"
   ]
  },
  {
   "cell_type": "code",
   "execution_count": 133,
   "metadata": {},
   "outputs": [
    {
     "name": "stdout",
     "output_type": "stream",
     "text": [
      "[1, 2, 3, 4, 5, 6, 7, 8]\n"
     ]
    }
   ],
   "source": [
    "a = [1, 2, 7, 8]\n",
    "a[2:2] = [3,4,5,6]\n",
    "print(a)"
   ]
  },
  {
   "cell_type": "code",
   "execution_count": null,
   "metadata": {},
   "outputs": [],
   "source": []
  }
 ],
 "metadata": {
  "kernelspec": {
   "display_name": "Python 3",
   "language": "python",
   "name": "python3"
  },
  "language_info": {
   "codemirror_mode": {
    "name": "ipython",
    "version": 3
   },
   "file_extension": ".py",
   "mimetype": "text/x-python",
   "name": "python",
   "nbconvert_exporter": "python",
   "pygments_lexer": "ipython3",
   "version": "3.8.3"
  }
 },
 "nbformat": 4,
 "nbformat_minor": 4
}
