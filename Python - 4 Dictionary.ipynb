{
 "cells": [
  {
   "cell_type": "markdown",
   "metadata": {},
   "source": [
    "# car = {\"brand\": \"Ford”, “model\":\"Mustang\",\"year\":1964}\n",
    "1. Print the value of the \"model\" key of the car dictionary.\n",
    "2. Change the \"year\" value from 1964 to 2020.\n",
    "3. Add the key/value pair \"colour”: \"red\" to the car dictionary"
   ]
  },
  {
   "cell_type": "code",
   "execution_count": 26,
   "metadata": {},
   "outputs": [
    {
     "name": "stdout",
     "output_type": "stream",
     "text": [
      "The given dictionary  ->  {'brand': 'Ford', 'model': 'Mustang', 'year': 1964}\n",
      "Value of model : Mustang\n",
      "new items in dictionary after updating year ->  {'brand': 'Ford', 'model': 'Mustang', 'year': 2020}\n",
      "new items in dictionary after adding new value pair ->  {'brand': 'Ford', 'model': 'Mustang', 'year': 2020, 'colour': 'red'}\n"
     ]
    }
   ],
   "source": [
    "car = {\"brand\": \"Ford\", \"model\":\"Mustang\",\"year\":1964}\n",
    "print('The given dictionary  -> ',car)\n",
    "\n",
    "# 1. Print the value of the \"model\" key of the car dictionary.\n",
    "print('Value of model :', car.get('model'))\n",
    "\n",
    "# 2. Change the \"year\" value from 1964 to 2020.\n",
    "car.update({\"year\":2020})\n",
    "print('new items in dictionary after updating year -> ', car)\n",
    "\n",
    "\n",
    "# 3. Add the key/value pair \"colour”: \"red\" to the car dictionary\n",
    "car.update({\"colour\":\"red\"})\n",
    "print('new items in dictionary after adding new value pair -> ', car)\n"
   ]
  },
  {
   "cell_type": "markdown",
   "metadata": {},
   "source": [
    "# inventory = {'gold' : 500, 'pouch' : ['flint', 'twine', 'gemstone'],'backpack' : ['xylophone’, ‘dagger', 'bedroll’, ‘bread’, ‘loaf']}\n",
    "\n",
    "## 4.  Add a key to inventory called 'pocket' and Set the value of 'pocket' to be a list consisting of the strings 'seashell', 'strangeberry', and 'lint'."
   ]
  },
  {
   "cell_type": "code",
   "execution_count": 114,
   "metadata": {},
   "outputs": [
    {
     "name": "stdout",
     "output_type": "stream",
     "text": [
      "{'gold': 500, 'pouch': ['flint', 'twine', 'gemstone'], 'backpack': ['xylophone', 'dagger', 'bedroll', 'bread', 'loaf']}\n",
      "new items in dictionary after updating new key to inventory ->\n",
      " {'gold': 500, 'pouch': ['flint', 'twine', 'gemstone'], 'backpack': ['xylophone', 'dagger', 'bedroll', 'bread', 'loaf'], 'pocket': ['seashell', 'strangeberry', 'lint']}\n"
     ]
    }
   ],
   "source": [
    "\"\"\" 4.  Add a key to inventory called 'pocket' and Set the value of\n",
    "'pocket' to be a list consisting of the strings 'seashell', 'strange\n",
    "berry', and 'lint'.\"\"\"\n",
    "\n",
    "inventory = {'gold' : 500, 'pouch' : ['flint', 'twine', 'gemstone'], 'backpack' : ['xylophone', 'dagger', 'bedroll', 'bread', 'loaf']}\n",
    "print(inventory)\n",
    "\n",
    "inventory.update({\"pocket\":['seashell','strangeberry','lint']})\n",
    "print('new items in dictionary after updating new key to inventory ->\\n', inventory)"
   ]
  },
  {
   "cell_type": "markdown",
   "metadata": {},
   "source": [
    "## 5. Sort the items in the list stored under the 'backpack' key.\n"
   ]
  },
  {
   "cell_type": "code",
   "execution_count": 115,
   "metadata": {},
   "outputs": [
    {
     "name": "stdout",
     "output_type": "stream",
     "text": [
      "Sorted elements of backpack - > ['bedroll', 'bread', 'dagger', 'loaf', 'xylophone']\n",
      "updated inventory with sorted elements ->  {'gold': 500, 'pouch': ['flint', 'twine', 'gemstone'], 'backpack': ['bedroll', 'bread', 'dagger', 'loaf', 'xylophone'], 'pocket': ['seashell', 'strangeberry', 'lint']}\n"
     ]
    }
   ],
   "source": [
    "inventory.get(\"backpack\").sort()\n",
    "print('Sorted elements of backpack - >',inventory.get(\"backpack\"))\n",
    "print('updated inventory with sorted elements -> ', inventory)"
   ]
  },
  {
   "cell_type": "markdown",
   "metadata": {},
   "source": [
    "## 6. Remove 'dagger' from the list of items stored under the 'backpack' key.\n"
   ]
  },
  {
   "cell_type": "code",
   "execution_count": 116,
   "metadata": {},
   "outputs": [
    {
     "name": "stdout",
     "output_type": "stream",
     "text": [
      "inventory after deleting dagger ->  {'gold': 500, 'pouch': ['flint', 'twine', 'gemstone'], 'backpack': ['bedroll', 'bread', 'loaf', 'xylophone'], 'pocket': ['seashell', 'strangeberry', 'lint']}\n"
     ]
    }
   ],
   "source": [
    "inventory.get('backpack').remove('dagger')\n",
    "print('inventory after deleting dagger -> ',inventory)\n"
   ]
  },
  {
   "cell_type": "markdown",
   "metadata": {},
   "source": [
    "## 7. Add 50 to the number stored under the 'gold' key."
   ]
  },
  {
   "cell_type": "code",
   "execution_count": 74,
   "metadata": {},
   "outputs": [
    {
     "name": "stdout",
     "output_type": "stream",
     "text": [
      "inventory after updating gold value ->  {'gold': 550, 'pouch': ['flint', 'twine', 'gemstone'], 'backpack': ['bedroll', 'bread', 'loaf', 'xylophone'], 'pocket': ['seashell', 'strangeberry', 'lint']}\n"
     ]
    }
   ],
   "source": [
    "inventory.update({\"gold\":(inventory.get('gold') + 50)})\n",
    "print('inventory after updating gold value -> ', inventory)"
   ]
  },
  {
   "cell_type": "markdown",
   "metadata": {},
   "source": [
    "## 8. Write a Python script to concatenate three dictionaries to create a new one. Make dictionaries yourself.\n"
   ]
  },
  {
   "cell_type": "code",
   "execution_count": 86,
   "metadata": {},
   "outputs": [
    {
     "name": "stdout",
     "output_type": "stream",
     "text": [
      "Cancatinated dictionary ->  {'car': 'Hyundai', 'Make': 2008, 'FName': 'Bhanu', 'LName': 'Deepak', 'Hobby': ['singing', 'Trekking', 'sleeping'], 'age': 30}\n"
     ]
    }
   ],
   "source": [
    "dict1 = {\"car\":\"Hyundai\",\"Make\":2008}\n",
    "dict2 = {'FName':\"Bhanu\",'LName':\"Deepak\"}\n",
    "dict3 = {'Hobby':[\"singing\",\"Trekking\",\"sleeping\"],\"age\":30}\n",
    "dict4 = {}\n",
    "for d in (dict1, dict2, dict3):\n",
    "    dict4.update(d)\n",
    "\n",
    "print('Cancatinated dictionary -> ',dict4)"
   ]
  },
  {
   "cell_type": "markdown",
   "metadata": {},
   "source": [
    "## 9. Write a Python program to sum all the items in a dictionary"
   ]
  },
  {
   "cell_type": "code",
   "execution_count": 88,
   "metadata": {},
   "outputs": [
    {
     "name": "stdout",
     "output_type": "stream",
     "text": [
      "Marks is subjets -> {'sub1': 90, 'sub2': 80, 'sub3': 60}\n",
      "Sum of marks from dictionary -> 230\n"
     ]
    }
   ],
   "source": [
    "dictMarks = {'sub1': 90,'sub2':80,'sub3':60}\n",
    "print(\"Marks is subjets ->\", dictMarks)\n",
    "sum = 0\n",
    "for keys in dictMarks.keys():\n",
    "    sum += dictMarks.get(keys)\n",
    "print('Sum of marks from dictionary ->', sum)\n"
   ]
  },
  {
   "cell_type": "markdown",
   "metadata": {},
   "source": [
    "## 10. Write a Python script to check whether a given key already exists in a dictionary.\n",
    "###  d = {'foo': 100, 'bar': 200, 'baz': 300}"
   ]
  },
  {
   "cell_type": "code",
   "execution_count": 101,
   "metadata": {},
   "outputs": [
    {
     "name": "stdout",
     "output_type": "stream",
     "text": [
      "enter a key to check :foo\n",
      "The dictionary {'foo': 100, 'bar': 200, 'baz': 300}\n",
      "The existing keys :  dict_keys(['foo', 'bar', 'baz'])\n",
      "Key -> foo already exists\n"
     ]
    }
   ],
   "source": [
    "d = {'foo': 100, 'bar': 200, 'baz': 300}\n",
    "key_tochek = input(\"enter a key to check :\")\n",
    "\n",
    "print('The dictionary',d)\n",
    "\n",
    "key_list = d.keys()\n",
    "print('The existing keys : ',key_list)\n",
    "if key_tochek in key_list:\n",
    "    print('Key -> {} already exists'.format(key_tochek))\n",
    "else:\n",
    "    print('Key -> {} does not exists in the dictionary'.format(key_tochek))"
   ]
  },
  {
   "cell_type": "markdown",
   "metadata": {},
   "source": [
    "## 11. What method call will delete the entry whose value is 200?"
   ]
  },
  {
   "cell_type": "code",
   "execution_count": 112,
   "metadata": {},
   "outputs": [
    {
     "name": "stdout",
     "output_type": "stream",
     "text": [
      "value removed : 200\n",
      "Dictory after removing a key val pair {'foo': 100, 'baz': 300}\n"
     ]
    }
   ],
   "source": [
    "d = {'foo': 100, 'bar': 200, 'baz': 300}\n",
    "for key, val in d.items():\n",
    "    if val == 200:\n",
    "        removed = d.pop(key)\n",
    "        break\n",
    "print('value removed :',removed)\n",
    "print('Dictory after removing a key val pair',d)"
   ]
  },
  {
   "cell_type": "markdown",
   "metadata": {},
   "source": [
    "## 12. Write a Python program to check multiple keys exists in a dictionary."
   ]
  },
  {
   "cell_type": "code",
   "execution_count": 129,
   "metadata": {},
   "outputs": [
    {
     "name": "stdout",
     "output_type": "stream",
     "text": [
      "enter kets to check :hh model\n",
      "{'model', 'hh'}\n",
      "Entered Keys does Exists in dictionary\n"
     ]
    }
   ],
   "source": [
    "car = {\"brand\": \"Ford\", \"model\":\"Mustang\",\"year\":1964}\n",
    "\n",
    "mul_keys = set(input(\"enter kets to check :\").split())\n",
    "print(mul_keys)\n",
    "if car.keys() >= mul_keys:\n",
    "    print('Entered Keys Exists in dictionary',)\n",
    "else:\n",
    "    print('Entered Keys does Exists in dictionary',)"
   ]
  },
  {
   "cell_type": "code",
   "execution_count": null,
   "metadata": {},
   "outputs": [],
   "source": []
  }
 ],
 "metadata": {
  "kernelspec": {
   "display_name": "Python 3",
   "language": "python",
   "name": "python3"
  },
  "language_info": {
   "codemirror_mode": {
    "name": "ipython",
    "version": 3
   },
   "file_extension": ".py",
   "mimetype": "text/x-python",
   "name": "python",
   "nbconvert_exporter": "python",
   "pygments_lexer": "ipython3",
   "version": "3.8.3"
  }
 },
 "nbformat": 4,
 "nbformat_minor": 4
}
