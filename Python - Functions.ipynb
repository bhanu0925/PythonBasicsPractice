{
 "cells": [
  {
   "cell_type": "markdown",
   "metadata": {},
   "source": [
    "# Functions"
   ]
  },
  {
   "cell_type": "markdown",
   "metadata": {},
   "source": [
    "## 1. Write a Python function that accepts a string and calculates the number of uppercase letters and lowercase letters."
   ]
  },
  {
   "cell_type": "code",
   "execution_count": 5,
   "metadata": {},
   "outputs": [
    {
     "name": "stdout",
     "output_type": "stream",
     "text": [
      "enter the string with mixed cases letters : DFGDGFrtyuuiokjm\n",
      "Upper letters : 6\n",
      "Lower Letters : 10\n"
     ]
    }
   ],
   "source": [
    "def CountCase(text):\n",
    "    upperCase = []\n",
    "    lowerCase = []\n",
    "    for s in text:\n",
    "        if s.isupper():\n",
    "            upperCase.append(s)\n",
    "        else:\n",
    "            lowerCase.append(s)\n",
    "    return len(upperCase), len(lowerCase)           \n",
    "        \n",
    "    \n",
    "sText = input(\"enter the string with mixed cases letters : \")\n",
    "u, l = CountCase(sText)\n",
    "print('Upper letters :',u)\n",
    "print('Lower Letters :',l)"
   ]
  },
  {
   "cell_type": "markdown",
   "metadata": {},
   "source": [
    "## 2. Write a Python function to create and print a list where the values are squares of numbers between 1 and 30 (both included)."
   ]
  },
  {
   "cell_type": "code",
   "execution_count": 7,
   "metadata": {},
   "outputs": [
    {
     "name": "stdout",
     "output_type": "stream",
     "text": [
      "1 -> 1\n",
      "2 -> 4\n",
      "3 -> 9\n",
      "4 -> 16\n",
      "5 -> 25\n",
      "6 -> 36\n",
      "7 -> 49\n",
      "8 -> 64\n",
      "9 -> 81\n",
      "10 -> 100\n",
      "11 -> 121\n",
      "12 -> 144\n",
      "13 -> 169\n",
      "14 -> 196\n",
      "15 -> 225\n",
      "16 -> 256\n",
      "17 -> 289\n",
      "18 -> 324\n",
      "19 -> 361\n",
      "20 -> 400\n",
      "21 -> 441\n",
      "22 -> 484\n",
      "23 -> 529\n",
      "24 -> 576\n",
      "25 -> 625\n",
      "26 -> 676\n",
      "27 -> 729\n",
      "28 -> 784\n",
      "29 -> 841\n",
      "30 -> 900\n"
     ]
    }
   ],
   "source": [
    "def printSquares():\n",
    "    square = []\n",
    "    for i in range(1,31):\n",
    "        square.append(i**2)\n",
    "        print(\"{} -> {}\".format(i,i**2))\n",
    "printSquares()\n",
    "        "
   ]
  },
  {
   "cell_type": "markdown",
   "metadata": {},
   "source": [
    "## 3. Create a function that counts the number of elements within a list that are greater than 30."
   ]
  },
  {
   "cell_type": "code",
   "execution_count": 23,
   "metadata": {},
   "outputs": [
    {
     "name": "stdout",
     "output_type": "stream",
     "text": [
      "The list  [20, 23, 26, 29, 32, 35, 38, 41, 44, 47]\n",
      "Number of elements greater then 30 are : 6\n",
      "Elements are [32, 35, 38, 41, 44, 47]\n"
     ]
    }
   ],
   "source": [
    "def list_of_numbers(number,listOfNumbers):\n",
    "    x = [i for i in listOfNumbers if i > number ]\n",
    "    return len(x), x        \n",
    "\n",
    "number = 30\n",
    "listOfNumbers = list(range(20,50,3))\n",
    "#listOfNumbers\n",
    "l, ele = list_of_numbers(number,listOfNumbers)\n",
    "print('The list ', listOfNumbers)\n",
    "\n",
    "print('Number of elements greater then 30 are : {}\\nElements are {}'.format(l,ele))\n"
   ]
  },
  {
   "cell_type": "markdown",
   "metadata": {},
   "source": [
    "## 4. Write a Python function that takes a list and returns a new list with unique elements of the first list."
   ]
  },
  {
   "cell_type": "code",
   "execution_count": 28,
   "metadata": {},
   "outputs": [
    {
     "name": "stdout",
     "output_type": "stream",
     "text": [
      "The List : [1, 2, 3, 4, 4, 3, 2, 5, 6, 7, 5, 7, 8, 4, 6, 8, 9]\n",
      "Unique list =  [1, 2, 3, 4, 5, 6, 7, 8, 9]\n"
     ]
    }
   ],
   "source": [
    "def uniqueList(l):\n",
    "    uniList = []\n",
    "    for a in l:\n",
    "        if a not in uniList:\n",
    "            uniList.append(a)\n",
    "    return uniList\n",
    "\n",
    "l = [1,2,3,4,4,3,2,5,6,7,5,7,8,4,6,8,9]\n",
    "print('The List :', l)\n",
    "print('Unique list = ',uniqueList(l))"
   ]
  },
  {
   "cell_type": "markdown",
   "metadata": {},
   "source": [
    "## 5. Create a function showEmployee() in such a way that it should accept employee name, and it’s salary and display both, and if the salary is missing in function call it should show it as 9000"
   ]
  },
  {
   "cell_type": "code",
   "execution_count": 33,
   "metadata": {},
   "outputs": [
    {
     "name": "stdout",
     "output_type": "stream",
     "text": [
      "Employee Name - Bhanu\n",
      "Employee Salary - 345643\n",
      "\n",
      "Employee Name - Deepak\n",
      "Employee Salary - 9000\n",
      "\n"
     ]
    }
   ],
   "source": [
    "def showEmployee(eName, eSalary = 9000):\n",
    "    print('Employee Name - {}\\nEmployee Salary - {}\\n'.format(eName,eSalary))\n",
    "\n",
    "showEmployee('Bhanu',345643)\n",
    "showEmployee('Deepak')"
   ]
  },
  {
   "cell_type": "markdown",
   "metadata": {},
   "source": [
    "## 6. Write a Python program to count the even, odd numbers in a given array of integers using Lambda."
   ]
  },
  {
   "cell_type": "code",
   "execution_count": 37,
   "metadata": {},
   "outputs": [
    {
     "name": "stdout",
     "output_type": "stream",
     "text": [
      "The List  [20, 23, 26, 29, 32, 35, 38, 41, 44, 47, 50, 53, 56, 59, 62, 65, 68]\n",
      "The Even List  [20, 26, 32, 38, 44, 50, 56, 62, 68]\n",
      "Even number count : 9\n",
      "The odd List  [23, 29, 35, 41, 47, 53, 59, 65]\n",
      "Odd number count : 8\n"
     ]
    }
   ],
   "source": [
    "listNum = list(range(20,70,3))\n",
    "find_even = lambda a : a%2 == 0\n",
    "find_odd = lambda a : a%2 != 0\n",
    "even_list = list(filter(find_even, listNum))\n",
    "odd_list = list(filter(find_odd,listNum))\n",
    "\n",
    "print('The List ', listNum)\n",
    "print('The Even List ',even_list)\n",
    "print('Even number count :',len(even_list))\n",
    "print('The odd List ',odd_list)\n",
    "print('Odd number count :',len(odd_list))"
   ]
  },
  {
   "cell_type": "markdown",
   "metadata": {},
   "source": [
    "## 7. Write a Python program to add two given lists using map and lambda"
   ]
  },
  {
   "cell_type": "code",
   "execution_count": 43,
   "metadata": {},
   "outputs": [
    {
     "name": "stdout",
     "output_type": "stream",
     "text": [
      "The List 1 ->  [10, 12, 14, 16, 18, 20, 22, 24, 26, 28]\n",
      "The List 2 ->  [20, 22, 24, 26, 28, 30, 32, 34, 36, 38]\n",
      "Result list ->  [30, 34, 38, 42, 46, 50, 54, 58, 62, 66]\n"
     ]
    }
   ],
   "source": [
    "list1 = list(range(10,30,2))\n",
    "list2 = list(range(20,40,2))\n",
    "addlist = lambda x,y : x + y\n",
    "\n",
    "result = list(map(addlist,list1,list2))\n",
    "print('The List 1 -> ', list1)\n",
    "print('The List 2 -> ', list2)\n",
    "\n",
    "print('Result list -> ',result)\n"
   ]
  },
  {
   "cell_type": "markdown",
   "metadata": {},
   "source": [
    "## 8. Write a Python program to rearrange positive and negative numbers in a given array using Lambda and filter"
   ]
  },
  {
   "cell_type": "code",
   "execution_count": 62,
   "metadata": {},
   "outputs": [
    {
     "name": "stdout",
     "output_type": "stream",
     "text": [
      "[-12, -9, -4, -3, 3, 5, 6, 8]\n"
     ]
    }
   ],
   "source": [
    "listnum = [3,5,8,-3,-12,-9,-4,6]\n",
    "find_positive = lambda x : x > 0\n",
    "find_negative = lambda x : x < 0\n",
    "result = list(filter(find_negative, listnum)) + list(filter(find_positive,listnum))\n",
    "print(sorted(result))\n"
   ]
  },
  {
   "cell_type": "markdown",
   "metadata": {},
   "source": [
    "## 9. Write a Python program to filter a list of integers using Lambda."
   ]
  },
  {
   "cell_type": "code",
   "execution_count": 63,
   "metadata": {},
   "outputs": [
    {
     "name": "stdout",
     "output_type": "stream",
     "text": [
      "The List  [20, 23, 26, 29, 32, 35, 38, 41, 44, 47, 50, 53, 56, 59, 62, 65, 68]\n",
      "The Even List  [20, 26, 32, 38, 44, 50, 56, 62, 68]\n",
      "The odd List  [23, 29, 35, 41, 47, 53, 59, 65]\n"
     ]
    }
   ],
   "source": [
    "listNum = list(range(20,70,3))\n",
    "find_even = lambda a : a%2 == 0\n",
    "find_odd = lambda a : a%2 != 0\n",
    "even_list = list(filter(find_even, listNum))\n",
    "odd_list = list(filter(find_odd,listNum))\n",
    "\n",
    "print('The List ', listNum)\n",
    "print('The Even List ',even_list)\n",
    "\n",
    "print('The odd List ',odd_list)\n"
   ]
  },
  {
   "cell_type": "markdown",
   "metadata": {},
   "source": [
    "## 10. Write a Python program to find the intersection of two given arrays using Lambda and filter."
   ]
  },
  {
   "cell_type": "code",
   "execution_count": 78,
   "metadata": {},
   "outputs": [
    {
     "name": "stdout",
     "output_type": "stream",
     "text": [
      "The List 1 [10, 12, 14, 16, 18, 20, 22, 24, 26, 28]\n",
      "The List 2 [10, 13, 16, 19, 22, 25, 28, 31, 34, 37, 40, 43, 46, 49]\n",
      "The Intersection elements  [10, 16, 22, 28]\n"
     ]
    }
   ],
   "source": [
    "listNum1 = list(range(10,30,2))\n",
    "listNum2 = list(range(10,50,3))\n",
    "\n",
    "intersection = lambda x: x in listNum1\n",
    "print('The List 1',listNum1)\n",
    "print('The List 2',listNum2)\n",
    "result = list(filter(lambda x: x in listNum1,listNum2))\n",
    "print('The Intersection elements ',result)"
   ]
  },
  {
   "cell_type": "code",
   "execution_count": null,
   "metadata": {},
   "outputs": [],
   "source": []
  }
 ],
 "metadata": {
  "kernelspec": {
   "display_name": "Python 3",
   "language": "python",
   "name": "python3"
  },
  "language_info": {
   "codemirror_mode": {
    "name": "ipython",
    "version": 3
   },
   "file_extension": ".py",
   "mimetype": "text/x-python",
   "name": "python",
   "nbconvert_exporter": "python",
   "pygments_lexer": "ipython3",
   "version": "3.8.3"
  }
 },
 "nbformat": 4,
 "nbformat_minor": 4
}
