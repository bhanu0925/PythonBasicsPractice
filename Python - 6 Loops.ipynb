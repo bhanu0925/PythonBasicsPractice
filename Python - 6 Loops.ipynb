{
 "cells": [
  {
   "cell_type": "markdown",
   "metadata": {},
   "source": [
    "# Python Assignment - 6 Loops "
   ]
  },
  {
   "cell_type": "markdown",
   "metadata": {},
   "source": [
    "## Print First 10 natural numbers using while loop"
   ]
  },
  {
   "cell_type": "code",
   "execution_count": 4,
   "metadata": {},
   "outputs": [
    {
     "name": "stdout",
     "output_type": "stream",
     "text": [
      "Printing first 10 natural numbers .......\n",
      "0\n",
      "1\n",
      "2\n",
      "3\n",
      "4\n",
      "5\n",
      "6\n",
      "7\n",
      "8\n",
      "9\n"
     ]
    }
   ],
   "source": [
    "count = 0\n",
    "print(\"Printing first 10 natural numbers .......\")\n",
    "while True:\n",
    "    print(count)\n",
    "    count +=1\n",
    "    if count >= 10:\n",
    "        #print('break')\n",
    "        break"
   ]
  },
  {
   "cell_type": "markdown",
   "metadata": {},
   "source": [
    "## 2. Display -10 to -1 using for loop"
   ]
  },
  {
   "cell_type": "code",
   "execution_count": 9,
   "metadata": {},
   "outputs": [
    {
     "name": "stdout",
     "output_type": "stream",
     "text": [
      "Display -10 to -1\n",
      "-10\n",
      "-9\n",
      "-8\n",
      "-7\n",
      "-6\n",
      "-5\n",
      "-4\n",
      "-3\n",
      "-2\n",
      "-1\n"
     ]
    }
   ],
   "source": [
    "print('Display -10 to -1')\n",
    "for i in range(-10,0,1):\n",
    "    print(i)"
   ]
  },
  {
   "cell_type": "markdown",
   "metadata": {},
   "source": [
    "## 3. Write a python program to print the factorial of a given number"
   ]
  },
  {
   "cell_type": "code",
   "execution_count": 22,
   "metadata": {},
   "outputs": [
    {
     "name": "stdout",
     "output_type": "stream",
     "text": [
      "enter the number :10\n",
      "10! -> 1*1*2*3*4*5*6*7*8*9*10 = 3628800\n"
     ]
    }
   ],
   "source": [
    "fact = 1\n",
    "fact1 = '1'\n",
    "num = int(input('enter the number :'))\n",
    "\n",
    "if num < 0:\n",
    "    print(\"Factorial of negative numbers can not be found\")\n",
    "elif num == 1:\n",
    "    print('Factorial of 0 is 1')\n",
    "else:\n",
    "    for i in range(1, num+1):\n",
    "        fact1 = fact1  + '*' + str(i)\n",
    "        fact = fact * i\n",
    "print('{}! -> {} = {}'.format(num,fact1,fact))"
   ]
  },
  {
   "cell_type": "markdown",
   "metadata": {},
   "source": [
    "## 4. Write a python program to print all prime numbers between 0 to 100 , and print how many prime numbers are there."
   ]
  },
  {
   "cell_type": "code",
   "execution_count": 26,
   "metadata": {},
   "outputs": [
    {
     "name": "stdout",
     "output_type": "stream",
     "text": [
      "The list of prime numbers between 0 - 100 are  [2, 3, 5, 7, 11, 13, 17, 19, 23, 29, 31, 37, 41, 43, 47, 53, 59, 61, 67, 71, 73, 79, 83, 89, 97]\n",
      "Total number of prime number between 0-100 are  25\n"
     ]
    }
   ],
   "source": [
    "listprime = []\n",
    "#num1 = int(input(\"Enter a number1: \")) \n",
    "#num2 = int(input(\"Enter a number2: \")) \n",
    "for num in range(0,101):  \n",
    "    if num > 1:\n",
    "        for i in range(2,num):\n",
    "            if (num%i) == 0:\n",
    "                #print(num,'is not a prime')                \n",
    "                break\n",
    "        else:\n",
    "            #print(num,'is a prime number')\n",
    "            listprime.append(num)\n",
    "    \n",
    "print('The list of prime numbers between 0 - 100 are ',listprime)  \n",
    "print('Total number of prime number between 0-100 are ',len(listprime))"
   ]
  },
  {
   "cell_type": "markdown",
   "metadata": {},
   "source": [
    "## 5. Print the following pattern :\n",
    "### 1\n",
    "### 1 2\n",
    "### 1 2 3\n",
    "### 1 2 3 4\n",
    "### 1 2 3 4 5"
   ]
  },
  {
   "cell_type": "code",
   "execution_count": 81,
   "metadata": {},
   "outputs": [
    {
     "name": "stdout",
     "output_type": "stream",
     "text": [
      "Enter num : 7\n",
      "1 \n",
      "1 2 \n",
      "1 2 3 \n",
      "1 2 3 4 \n",
      "1 2 3 4 5 \n",
      "1 2 3 4 5 6 \n",
      "1 2 3 4 5 6 7 \n"
     ]
    }
   ],
   "source": [
    "num  = int(input('Enter num : '))\n",
    "for i in range(1,num+1):\n",
    "    for j in range(1,i+1):\n",
    "        print(j ,end =' ')\n",
    "    print()\n",
    "    "
   ]
  },
  {
   "cell_type": "markdown",
   "metadata": {},
   "source": [
    " ## 6.  Accept n number from user and calculate the sum of all number between 1 and n including n"
   ]
  },
  {
   "cell_type": "code",
   "execution_count": 45,
   "metadata": {},
   "outputs": [
    {
     "name": "stdout",
     "output_type": "stream",
     "text": [
      "Enter number : 90\n",
      "Sum of all number between 1 and 90 = 4095\n"
     ]
    }
   ],
   "source": [
    "num = int(input('Enter number : '))\n",
    "sum = 0\n",
    "for i in range(1,num+1):\n",
    "    sum = sum + i\n",
    "print('Sum of all number between 1 and {} = {}'.format(num,sum))\n",
    "    "
   ]
  },
  {
   "cell_type": "markdown",
   "metadata": {},
   "source": [
    "## 7. Given a number count the total number of digits in a number."
   ]
  },
  {
   "cell_type": "code",
   "execution_count": 50,
   "metadata": {},
   "outputs": [
    {
     "name": "stdout",
     "output_type": "stream",
     "text": [
      "Enter a digit : 57643546877654324\n",
      "Number of digits in number 57643546877654324 is 17\n"
     ]
    }
   ],
   "source": [
    "num = int(input('Enter a digit : '))\n",
    "n = num\n",
    "digitCount = 0\n",
    "while (n != 0):\n",
    "    n = n//10\n",
    "    digitCount +=1\n",
    "print('Number of digits in number {} is {}'.format(num,digitCount))"
   ]
  },
  {
   "cell_type": "markdown",
   "metadata": {},
   "source": [
    "## 8. Write a Python program to create the multiplication table (from 1 to 10) of a number."
   ]
  },
  {
   "cell_type": "code",
   "execution_count": 57,
   "metadata": {},
   "outputs": [
    {
     "name": "stdout",
     "output_type": "stream",
     "text": [
      "Enter a num : 5\n",
      "Table of 5\n",
      "************\n",
      "5 * 1 = 5\n",
      "5 * 2 = 10\n",
      "5 * 3 = 15\n",
      "5 * 4 = 20\n",
      "5 * 5 = 25\n",
      "5 * 6 = 30\n",
      "5 * 7 = 35\n",
      "5 * 8 = 40\n",
      "5 * 9 = 45\n",
      "5 * 10 = 50\n"
     ]
    }
   ],
   "source": [
    "num = int(input('Enter a num : '))\n",
    "\n",
    "print('Table of {}'.format(num))\n",
    "print('************')\n",
    "\n",
    "for n in range(1,11):\n",
    "    print('{} * {} = {}'.format(num,n,n*num))"
   ]
  },
  {
   "cell_type": "markdown",
   "metadata": {},
   "source": [
    "## 9 Reverse the following list using for loop list1 = [10, 20, 30, 40, 50]"
   ]
  },
  {
   "cell_type": "code",
   "execution_count": 64,
   "metadata": {},
   "outputs": [
    {
     "name": "stdout",
     "output_type": "stream",
     "text": [
      "The List  [10, 20, 30, 40, 50]\n",
      "The Reveresed List  [50, 40, 30, 20, 10]\n"
     ]
    }
   ],
   "source": [
    "list1 = [10,20,30,40,50]\n",
    "revlist = []\n",
    "for i in range(len(list1)-1,-1,-1):\n",
    "    revlist.append(list1[i])\n",
    "print('The List ', list1)\n",
    "print('The Reveresed List ',revlist)\n"
   ]
  },
  {
   "cell_type": "markdown",
   "metadata": {},
   "source": [
    "## 10. Write a Python program to construct the following pattern, using a nested for loop.\n",
    "### *\n",
    "### * *\n",
    "### * * *\n",
    "### * * * *\n",
    "### * * * * *\n",
    "### * * * *\n",
    "### * * *\n",
    "### * *\n",
    "### *"
   ]
  },
  {
   "cell_type": "code",
   "execution_count": 80,
   "metadata": {},
   "outputs": [
    {
     "name": "stdout",
     "output_type": "stream",
     "text": [
      "Enter num : 8\n",
      "* \n",
      "* * \n",
      "* * * \n",
      "* * * * \n",
      "* * * * * \n",
      "* * * * * * \n",
      "* * * * * * * \n",
      "* * * * * * * * \n",
      "* * * * * * * \n",
      "* * * * * * \n",
      "* * * * * \n",
      "* * * * \n",
      "* * * \n",
      "* * \n",
      "* \n",
      "\n"
     ]
    }
   ],
   "source": [
    "num  = int(input('Enter num : '))\n",
    "for i in range(1,num+1):\n",
    "    for j in range(1,i+1):\n",
    "        print(\"*\" ,end =' ')\n",
    "    print()\n",
    "for k in range(num,0,-1):\n",
    "    for h in range(1,k):\n",
    "        print('*', end =' ')\n",
    "    print()"
   ]
  },
  {
   "cell_type": "markdown",
   "metadata": {},
   "source": [
    "## 11.Write a Python program that accepts a string and calculate the number of digits and letters."
   ]
  },
  {
   "cell_type": "code",
   "execution_count": 66,
   "metadata": {},
   "outputs": [
    {
     "name": "stdout",
     "output_type": "stream",
     "text": [
      "Enter a string : ghfhgf5667567jjkjkl98798798hgfhg\n",
      "Number of letters :  17\n",
      "Number of digits :  15\n"
     ]
    }
   ],
   "source": [
    "sText = input(\"Enter a string : \")\n",
    "d=l=0\n",
    "\n",
    "for c in sText:\n",
    "    if c.isdigit():\n",
    "        d=d+1\n",
    "    elif c.isalpha():\n",
    "        l=l+1\n",
    "    else:\n",
    "        pass\n",
    "\n",
    "print('Number of letters : ',l)\n",
    "print('Number of digits : ',d)"
   ]
  },
  {
   "cell_type": "markdown",
   "metadata": {},
   "source": [
    "## 12. From a list containing ints, strings and floats, make three lists to store them separately."
   ]
  },
  {
   "cell_type": "code",
   "execution_count": 75,
   "metadata": {},
   "outputs": [
    {
     "name": "stdout",
     "output_type": "stream",
     "text": [
      "The List ['ABCD', 34, 56.7, 'Deepak', 90, 67.5]\n",
      "Decimal list  [56.7, 67.5]\n",
      "Int List  [34, 90]\n",
      "string List  ['ABCD', 'Deepak']\n"
     ]
    }
   ],
   "source": [
    "#list1 = list(input(\"enter a list with string, int and decimal values with spaces\").split())\n",
    "list1 = ['ABCD',34,56.7,'Deepak',90,67.5]\n",
    "listString = []\n",
    "listint =[]\n",
    "listDecimal =[]\n",
    "\n",
    "for i in list1:\n",
    "    if type(i)==float:\n",
    "        listDecimal.append(i)\n",
    "    elif type(i)==str:\n",
    "        listString.append(i)\n",
    "    elif type(i)==int:\n",
    "        listint.append(i)\n",
    "    else:\n",
    "        pass\n",
    "print('The List',list1)  \n",
    "print(\"Decimal list \", listDecimal)\n",
    "print(\"Int List \",listint)\n",
    "print(\"string List \",listString)"
   ]
  },
  {
   "cell_type": "code",
   "execution_count": null,
   "metadata": {},
   "outputs": [],
   "source": []
  }
 ],
 "metadata": {
  "kernelspec": {
   "display_name": "Python 3",
   "language": "python",
   "name": "python3"
  },
  "language_info": {
   "codemirror_mode": {
    "name": "ipython",
    "version": 3
   },
   "file_extension": ".py",
   "mimetype": "text/x-python",
   "name": "python",
   "nbconvert_exporter": "python",
   "pygments_lexer": "ipython3",
   "version": "3.8.3"
  }
 },
 "nbformat": 4,
 "nbformat_minor": 4
}
