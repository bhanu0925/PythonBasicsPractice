{
 "cells": [
  {
   "cell_type": "markdown",
   "metadata": {},
   "source": [
    "# Python Assignment – Operators"
   ]
  },
  {
   "cell_type": "markdown",
   "metadata": {},
   "source": [
    "## 1. Import keyword library and print list of keywords along with total number of keywords"
   ]
  },
  {
   "cell_type": "code",
   "execution_count": 12,
   "metadata": {},
   "outputs": [
    {
     "name": "stdout",
     "output_type": "stream",
     "text": [
      "Number of keywords in Python is : 35. The are : \n",
      "['False', 'None', 'True', 'and', 'as', 'assert', 'async', 'await', 'break', 'class', 'continue', 'def', 'del', 'elif', 'else', 'except', 'finally', 'for', 'from', 'global', 'if', 'import', 'in', 'is', 'lambda', 'nonlocal', 'not', 'or', 'pass', 'raise', 'return', 'try', 'while', 'with', 'yield']\n"
     ]
    }
   ],
   "source": [
    "import keyword as key\n",
    "keyWordList = key.kwlist\n",
    "print(\"Number of keywords in Python is : {}. The are : \\n{}\".format(len(keyWordList),keyWordList))"
   ]
  },
  {
   "attachments": {
    "image.png": {
     "image/png": "[encoded data removed]"
    }
   },
   "cell_type": "markdown",
   "metadata": {},
   "source": [
    "## 2. In Markdown State, Copy Python keywords image from Google Images and Paste it in your notebook\n",
    "\n",
    "![image.png](attachment:image.png)\n"
   ]
  },
  {
   "cell_type": "markdown",
   "metadata": {},
   "source": [
    "## 3. Create two strings a and b with any integer values stored in it And perform Addition, Multiplication, Subtraction and a2+b2"
   ]
  },
  {
   "cell_type": "code",
   "execution_count": 18,
   "metadata": {},
   "outputs": [
    {
     "name": "stdout",
     "output_type": "stream",
     "text": [
      "Enter num1 :3\n",
      "Enter num2 :4\n",
      "Addition of 3 and 4 is 7\n",
      "Multiplication of 3 and 4 is 12\n",
      "Subtraction of 3 and 4 is -1\n",
      "squareAddition of 3**2 and 4**2 is 25\n"
     ]
    }
   ],
   "source": [
    "a = int(input(\"Enter num1 :\"))\n",
    "b = int(input(\"Enter num2 :\"))\n",
    "addition = a + b\n",
    "multiplication = a * b\n",
    "subtraction = a - b\n",
    "squareAddition = a**2 +b**2\n",
    "\n",
    "print(\"Addition of {} and {} is {}\".format(a,b,addition))\n",
    "print(\"Multiplication of {} and {} is {}\".format(a,b,multiplication))\n",
    "print(\"Subtraction of {} and {} is {}\".format(a,b,subtraction))\n",
    "print(\"squareAddition of {}**2 and {}**2 is {}\".format(a,b,squareAddition))"
   ]
  },
  {
   "cell_type": "markdown",
   "metadata": {},
   "source": [
    "## 4. Use Boolean operators (==, !=, >, >=, <, <= ) , between a and b and Display output"
   ]
  },
  {
   "cell_type": "code",
   "execution_count": 26,
   "metadata": {},
   "outputs": [
    {
     "name": "stdout",
     "output_type": "stream",
     "text": [
      "Enter value of a : 7\n",
      "Enter value of b : 8\n",
      "A & B are not equal\n",
      "A lesser than B\n"
     ]
    }
   ],
   "source": [
    "a=int(input('Enter value of a : '))\n",
    "b=int(input('Enter value of b : '))\n",
    "\n",
    "if a == b:\n",
    "    print('A and b are equal')\n",
    "elif a != b :\n",
    "    print('A & B are not equal')\n",
    "if a > b :\n",
    "    print('A greater than B')\n",
    "elif a >= b :\n",
    "    print('A greater than or equal to B')\n",
    "elif a < b :\n",
    "    print('A lesser than B')\n",
    "elif a <= b :\n",
    "    print('A lesser than equal to B')"
   ]
  },
  {
   "cell_type": "markdown",
   "metadata": {},
   "source": [
    "## 5. Create two strings x and y with any integer values stored in it And perform bitwise operations (&,^, | ,>>,<<)"
   ]
  },
  {
   "cell_type": "code",
   "execution_count": 39,
   "metadata": {},
   "outputs": [
    {
     "name": "stdout",
     "output_type": "stream",
     "text": [
      "Enter value of X : 3\n",
      "Enter value of Y : 4\n",
      "The values of x and y :  3 4\n",
      "x and y : 0, in binary : 0b0\n",
      "x XOR y : 7, in binary : 0b111\n",
      "x OR y : 7, in binary : 0b111\n",
      "x right shift y : 0, in binary : 0b0 \n",
      "x left shift y : 48, in binary : 0b110000\n"
     ]
    }
   ],
   "source": [
    "x = int(input('Enter value of X : '))\n",
    "y = int(input('Enter value of Y : '))\n",
    "\n",
    "print('The values of x and y : ', x,y)\n",
    "print('x and y : {}, in binary : {}'.format(x&y, bin(x&y)))\n",
    "print('x XOR y : {}, in binary : {}'.format(x^y, bin(x^y)))\n",
    "print('x OR y : {}, in binary : {}'.format(x|y, bin(x|y)))\n",
    "print('x right shift y : {}, in binary : {} '.format(x>>y,bin(x>>y)))\n",
    "print('x left shift y : {}, in binary : {}'.format(x<<y,bin(x<<y)))"
   ]
  },
  {
   "cell_type": "code",
   "execution_count": null,
   "metadata": {},
   "outputs": [],
   "source": []
  }
 ],
 "metadata": {
  "kernelspec": {
   "display_name": "Python 3",
   "language": "python",
   "name": "python3"
  },
  "language_info": {
   "codemirror_mode": {
    "name": "ipython",
    "version": 3
   },
   "file_extension": ".py",
   "mimetype": "text/x-python",
   "name": "python",
   "nbconvert_exporter": "python",
   "pygments_lexer": "ipython3",
   "version": "3.8.3"
  }
 },
 "nbformat": 4,
 "nbformat_minor": 4
}
