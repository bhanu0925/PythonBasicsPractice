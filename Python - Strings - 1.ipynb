{
 "cells": [
  {
   "cell_type": "markdown",
   "metadata": {},
   "source": [
    "## Question 1 \n",
    "\n",
    "Define different types of variables (integer, boolean,string, float, complex) and print their values and their types"
   ]
  },
  {
   "cell_type": "code",
   "execution_count": 109,
   "metadata": {},
   "outputs": [
    {
     "name": "stdout",
     "output_type": "stream",
     "text": [
      "IntVar is of type :  (20, <class 'int'>)\n",
      "BoolVar is of type :  (True, <class 'bool'>)\n",
      "StringVar is of type :  ('Bhanu', <class 'str'>)\n",
      "FloatVar is of type :  (10.5, <class 'float'>)\n",
      "ComplexVar is of type :  ((3+5j), <class 'complex'>)\n"
     ]
    }
   ],
   "source": [
    "# int var\n",
    "IntVar = 20\n",
    "print('IntVar is of type : ',(IntVar,type(IntVar)))\n",
    "# boolean\n",
    "BoolVar = True\n",
    "print('BoolVar is of type : ', (BoolVar,type(BoolVar)))\n",
    "# string\n",
    "StringVar = \"Bhanu\"\n",
    "print('StringVar is of type : ', (StringVar,type(StringVar)))\n",
    "# Float\n",
    "FloatVar = 10.5\n",
    "print('FloatVar is of type : ', (FloatVar,type(FloatVar)))\n",
    "# complex\n",
    "ComplexVar = 3+5j\n",
    "print('ComplexVar is of type : ', (ComplexVar,type(ComplexVar)))"
   ]
  },
  {
   "cell_type": "markdown",
   "metadata": {},
   "source": [
    "## Question 2\n",
    "In the above question convert float variable into integer type and integer variable into str type."
   ]
  },
  {
   "cell_type": "code",
   "execution_count": 110,
   "metadata": {},
   "outputs": [
    {
     "name": "stdout",
     "output_type": "stream",
     "text": [
      "FloatVar is of type :  (10.5, <class 'float'>)\n",
      "After converting :  (10, <class 'int'>)\n",
      "IntVar is of type :  (20, <class 'int'>)\n",
      "After converting :  ('20', <class 'str'>)\n"
     ]
    }
   ],
   "source": [
    "# conver Float into integer\n",
    "FloatVar = 10.5\n",
    "print('FloatVar is of type : ', (FloatVar,type(FloatVar)))\n",
    "FloatVarInt = int(FloatVar)\n",
    "print('After converting : ', (FloatVarInt, type(FloatVarInt)))\n",
    "\n",
    "# convert int into String\n",
    "IntVar = 20\n",
    "print('IntVar is of type : ',(IntVar,type(IntVar)))\n",
    "IntVarString = str(IntVar)\n",
    "print('After converting : ', (IntVarString, type(IntVarString)))"
   ]
  },
  {
   "cell_type": "markdown",
   "metadata": {},
   "source": [
    "## Question 3\n",
    "\n",
    "What will you get converting “abc” into boolean ?"
   ]
  },
  {
   "cell_type": "code",
   "execution_count": 111,
   "metadata": {},
   "outputs": [
    {
     "data": {
      "text/plain": [
       "True"
      ]
     },
     "execution_count": 111,
     "metadata": {},
     "output_type": "execute_result"
    }
   ],
   "source": [
    "strVar = 'abc'\n",
    "strVarBool = bool(strVar)\n",
    "strVarBool"
   ]
  },
  {
   "cell_type": "markdown",
   "metadata": {},
   "source": [
    "## Question 4\n",
    "Print the substring from index 2 to index 4 for any given\n",
    "string. For example (llo) from “Hello World”"
   ]
  },
  {
   "cell_type": "code",
   "execution_count": 112,
   "metadata": {},
   "outputs": [
    {
     "name": "stdout",
     "output_type": "stream",
     "text": [
      "llo\n"
     ]
    }
   ],
   "source": [
    "strVar = 'Hello World'\n",
    "#slicing 2 to 4 index\n",
    "print(strVar[2:5])"
   ]
  },
  {
   "cell_type": "markdown",
   "metadata": {},
   "source": [
    "## Question 5\n",
    "Write a program to check a substring in a given string.\n",
    "For example 'e' is present in the word 'Umbrella'"
   ]
  },
  {
   "cell_type": "code",
   "execution_count": 113,
   "metadata": {},
   "outputs": [
    {
     "data": {
      "text/plain": [
       "5"
      ]
     },
     "execution_count": 113,
     "metadata": {},
     "output_type": "execute_result"
    }
   ],
   "source": [
    "strVar = 'Umbrella'\n",
    "subStr = 'll'\n",
    "# find returns a positive number if the substring is presentin the string, else returns -ve number\n",
    "strVar.find(subStr)"
   ]
  },
  {
   "cell_type": "markdown",
   "metadata": {},
   "source": [
    "## Question 6\n",
    "Use the correct comparison operator to check if 5 is not equal to 10."
   ]
  },
  {
   "cell_type": "code",
   "execution_count": 114,
   "metadata": {},
   "outputs": [
    {
     "data": {
      "text/plain": [
       "True"
      ]
     },
     "execution_count": 114,
     "metadata": {},
     "output_type": "execute_result"
    }
   ],
   "source": [
    "5!=10"
   ]
  },
  {
   "cell_type": "markdown",
   "metadata": {},
   "source": [
    "## Question 7\n",
    "\n",
    "Write a program to get a string from the user and sort the words of the string in alphabetical order."
   ]
  },
  {
   "cell_type": "code",
   "execution_count": 115,
   "metadata": {},
   "outputs": [
    {
     "name": "stdout",
     "output_type": "stream",
     "text": [
      "Enter the string : \n"
     ]
    }
   ],
   "source": [
    "UsrStrVar = input(\"Enter the string : \")\n",
    "UsrStrVar\n",
    "words = [UsrStrVar.lower() for UsrStrVar in UsrStrVar.split()]\n",
    "words.sort()\n",
    "for word in words:\n",
    "    print(word)"
   ]
  },
  {
   "cell_type": "markdown",
   "metadata": {},
   "source": [
    "## Question 8\n",
    "Join two words using special characters like ‘ – ‘ ,’#’"
   ]
  },
  {
   "cell_type": "code",
   "execution_count": 116,
   "metadata": {},
   "outputs": [
    {
     "name": "stdout",
     "output_type": "stream",
     "text": [
      "B#h#a#n#u# #i#s# #a# #g#o#o#d# #g#i#r#l\n",
      "B-h-a-n-u- -i-s- -s-m-a-r-t\n"
     ]
    }
   ],
   "source": [
    "# join with '#'\n",
    "word1 = \"Bhanu is a good girl\"\n",
    "NewWord1 = '#'.join(word1)\n",
    "print(NewWord1)\n",
    "#join with '-'\n",
    "word2 = \"Bhanu is smart\"\n",
    "NewWord2 = '-'.join(word2)\n",
    "print(NewWord2)"
   ]
  },
  {
   "cell_type": "markdown",
   "metadata": {},
   "source": [
    "## Question 9\n",
    "Find all occurrences of “INDIA” in a given string ignoring the case.\n",
    "\n",
    "input_str = \"Welcome to INDIA. india is awesome."
   ]
  },
  {
   "cell_type": "code",
   "execution_count": 117,
   "metadata": {},
   "outputs": [
    {
     "name": "stdout",
     "output_type": "stream",
     "text": [
      "The string occurs 2 times\n",
      "The substring occurs at indices :  [11, 18]\n"
     ]
    }
   ],
   "source": [
    "input_str = \"Welcome to INDIA. india is awesome\"\n",
    "sunstr = 'india'\n",
    "x = input_str.lower() \n",
    "print('The string occurs',x.count('india'),'times')\n",
    "indices = [i for i in range(len(x)) if x.startswith(sunstr, i)]\n",
    "\n",
    "print('The substring occurs at indices : ', indices, )\n"
   ]
  },
  {
   "cell_type": "markdown",
   "metadata": {},
   "source": [
    "## Question 10\n",
    "\n",
    "Replace first two ‘l’ with ‘n’ in ‘Hello World’"
   ]
  },
  {
   "cell_type": "code",
   "execution_count": 118,
   "metadata": {},
   "outputs": [
    {
     "data": {
      "text/plain": [
       "'Henno World'"
      ]
     },
     "execution_count": 118,
     "metadata": {},
     "output_type": "execute_result"
    }
   ],
   "source": [
    "input_str = 'Hello World'\n",
    "#placing first 2 occurances of 'l'\n",
    "newStr = input_str.replace('l','n',2)\n",
    "newStr"
   ]
  },
  {
   "cell_type": "markdown",
   "metadata": {},
   "source": [
    "## Question 11\n",
    "\n",
    "Write a program that takes your full name as input and\n",
    "displays the abbreviations of the first and middle names\n",
    "except the last name which is displayed as it is. For\n",
    "example, if your name is Robert Brett Roser, then the\n",
    "output should be R.B.Roser."
   ]
  },
  {
   "cell_type": "code",
   "execution_count": 120,
   "metadata": {},
   "outputs": [
    {
     "name": "stdout",
     "output_type": "stream",
     "text": [
      "input First name middle name and last name with space : Bhanumathi Hebbale Ramesh\n",
      "Final Abbrevation B.H.Ramesh\n"
     ]
    }
   ],
   "source": [
    "nameStr = list(input('input First name middle name and last name with space : ').split())\n",
    "nameStr\n",
    "\n",
    "finalName = nameStr[0][0].upper()+'.'+nameStr[1][0].upper()+'.'+nameStr[2].title()\n",
    "print('Final Abbrevation',finalName)"
   ]
  },
  {
   "cell_type": "markdown",
   "metadata": {},
   "source": [
    "## Question 12\n",
    "Write a program to check if a given string is a\n",
    "Palindrome.\n",
    "A palindrome reads the same from front and back e.g.-\n",
    "aba, ccaacc, mom, etc."
   ]
  },
  {
   "cell_type": "code",
   "execution_count": 122,
   "metadata": {},
   "outputs": [
    {
     "name": "stdout",
     "output_type": "stream",
     "text": [
      "enter a word  :Malayalam\n",
      "Paliandrome\n"
     ]
    }
   ],
   "source": [
    "# given string\n",
    "strPal = input('enter a word  :')\n",
    "\n",
    "# reversing the given string\n",
    "strRev = strPal[::-1]\n",
    "\n",
    "# chrcking if the strings are same\n",
    "if strPal.upper()==strRev.upper() :\n",
    "    print('Paliandrome')\n",
    "else:\n",
    "    print('Not a Paliandrome')\n"
   ]
  },
  {
   "cell_type": "code",
   "execution_count": null,
   "metadata": {},
   "outputs": [],
   "source": []
  }
 ],
 "metadata": {
  "kernelspec": {
   "display_name": "Python 3",
   "language": "python",
   "name": "python3"
  },
  "language_info": {
   "codemirror_mode": {
    "name": "ipython",
    "version": 3
   },
   "file_extension": ".py",
   "mimetype": "text/x-python",
   "name": "python",
   "nbconvert_exporter": "python",
   "pygments_lexer": "ipython3",
   "version": "3.8.3"
  }
 },
 "nbformat": 4,
 "nbformat_minor": 4
}
