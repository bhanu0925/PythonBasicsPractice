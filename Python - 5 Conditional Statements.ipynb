{
 "cells": [
  {
   "cell_type": "markdown",
   "metadata": {},
   "source": [
    "# Python Assignment - 5 Conditional Statements"
   ]
  },
  {
   "cell_type": "markdown",
   "metadata": {},
   "source": [
    "### 1. Take two integer values from the user and print greatest among them."
   ]
  },
  {
   "cell_type": "code",
   "execution_count": 2,
   "metadata": {},
   "outputs": [
    {
     "name": "stdout",
     "output_type": "stream",
     "text": [
      "enter 1st number  : 3\n",
      "enter 2nd number  : 6\n",
      "6 is bigger\n"
     ]
    }
   ],
   "source": [
    "number1 = int(input('enter 1st number  : '))\n",
    "number2 = int(input('enter 2nd number  : '))\n",
    "\n",
    "if number1 == number2:\n",
    "    print('Numbers are equal')\n",
    "else:\n",
    "    if number1 > number2:\n",
    "        print(number1, 'is bigger')        \n",
    "    else:\n",
    "        print(number2, 'is bigger')\n",
    " "
   ]
  },
  {
   "cell_type": "markdown",
   "metadata": {},
   "source": [
    "### 2. Write a program that reads an integer from the user. Then your program should display a message indicating whether the integer is even or odd."
   ]
  },
  {
   "cell_type": "code",
   "execution_count": 6,
   "metadata": {},
   "outputs": [
    {
     "name": "stdout",
     "output_type": "stream",
     "text": [
      "Enter a number : 9\n",
      "Number 9 is Odd\n"
     ]
    }
   ],
   "source": [
    "Number = int(input('Enter a number : '))\n",
    "if Number %2 == 0:\n",
    "        print(\"Number {} is Even\".format(Number))\n",
    "else:\n",
    "        print(\"Number {} is Odd\".format(Number))"
   ]
  },
  {
   "cell_type": "markdown",
   "metadata": {},
   "source": [
    "### 3. Create a program that reads a letter of the alphabet from the user. If the user enters a, e, i, o or u then your program should display a message indicating that the entered letter is a vowel. If the user enters y then your program should display a message indicating that sometimes y is a vowel,and sometimes y is a consonant. Otherwise your program should display a message indicating that the letter is a consonant."
   ]
  },
  {
   "cell_type": "code",
   "execution_count": 15,
   "metadata": {},
   "outputs": [
    {
     "name": "stdout",
     "output_type": "stream",
     "text": [
      "Enter a letter from alphabet : y\n",
      "sometimes y is a vowel,and sometimes y is a consonant\n"
     ]
    }
   ],
   "source": [
    "letter = input('Enter a letter from alphabet : ').lower()\n",
    "if letter in ('a','e','i','o','u'):\n",
    "    print('{} is a vowel'.format(letter))\n",
    "elif letter == 'y':\n",
    "    print('sometimes y is a vowel,and sometimes y is a consonant')\n",
    "else:\n",
    "    print('{} is a consonant'.format(letter))\n",
    "    "
   ]
  },
  {
   "cell_type": "markdown",
   "metadata": {},
   "source": [
    "### 4. A triangle can be classified based on the lengths of its sides as equilateral, isosceles or scalene. All three sides of an equilateral triangle have the same length. An isosceles triangle has two sides that are the same length, and a third side that is a different length. If all of the sides have different lengths then the triangle is scalene. Write a program that reads the lengths of the three sides of a triangle from the user. Then display a message that states the triangle’s type."
   ]
  },
  {
   "cell_type": "code",
   "execution_count": 23,
   "metadata": {},
   "outputs": [
    {
     "name": "stdout",
     "output_type": "stream",
     "text": [
      "Enter lenth of side A : 3\n",
      "Enter lenth of side B : 4\n",
      "Enter lenth of side C : 3\n",
      "Its a Isosceles Triangle\n"
     ]
    }
   ],
   "source": [
    "SideA = int(input('Enter lenth of side A : '))\n",
    "SideB = int(input('Enter lenth of side B : '))\n",
    "SideC = int(input('Enter lenth of side C : '))\n",
    "\n",
    "if SideA == SideB == SideC:\n",
    "    print('Its a Equilateral Triangle')\n",
    "elif SideA == SideB or SideB == SideC or SideA == SideC:\n",
    "    print('Its a Isosceles Triangle')\n",
    "else:\n",
    "    print('Its a Scalene Triangle')"
   ]
  },
  {
   "cell_type": "markdown",
   "metadata": {},
   "source": [
    "### 5. Write a program that determines the name of a shape from its number of sides. Read the number of sides from the user and then report the appropriate name as part of a meaningful message. Your program should support shapes with anywhere from 3 up to (and including) 10 sides. If a number of sides outside of this range is entered then your program should display an appropriate error message."
   ]
  },
  {
   "cell_type": "code",
   "execution_count": 39,
   "metadata": {},
   "outputs": [
    {
     "name": "stdout",
     "output_type": "stream",
     "text": [
      "Enter number of sides2\n",
      "Upsupported sides, please enter sides between 3 to 10\n"
     ]
    }
   ],
   "source": [
    "sides = int(input('Enter number of sides'))\n",
    "\n",
    "if sides > 10 or sides <= 2:\n",
    "    print(\"Upsupported sides, please enter sides between 3 to 10\")\n",
    "elif sides == 3:\n",
    "    print(\"Its a Triangle\")\n",
    "elif sides == 4:\n",
    "    print(\"Its a quadrilateral\")\n",
    "elif sides == 5:\n",
    "    print(\"Its a pentagon\")\n",
    "elif sides == 6:\n",
    "    print(\"Its a hexagon\")\n",
    "elif sides == 7:\n",
    "    print(\"Its a heptagon\")\n",
    "elif sides == 8:\n",
    "    print(\"Its a octagon\")\n",
    "elif sides == 9:\n",
    "    print(\"Its a nonagon\")\n",
    "elif sides == 10:\n",
    "    print(\"Its a decagon\")"
   ]
  },
  {
   "cell_type": "markdown",
   "metadata": {},
   "source": [
    "### 6. A shop will give a discount of 10% if the cost of the purchased quantity is more than 1000. Ask the user for quantity, suppose, one unit will cost 100. Judge and print total cost for user."
   ]
  },
  {
   "cell_type": "code",
   "execution_count": 54,
   "metadata": {},
   "outputs": [
    {
     "name": "stdout",
     "output_type": "stream",
     "text": [
      "Enter quantity : 8\n",
      "Cost for 8 quantity before discount 800\n",
      "\n",
      "Not eligible for discount\n",
      "Cost for 8 quantity is 800\n"
     ]
    }
   ],
   "source": [
    "quantity = int(input(\"Enter quantity : \"))\n",
    "cost = 100\n",
    "totalCost = quantity * cost\n",
    "print(\"Cost for {} quantity before discount {}\".format(quantity,totalCost))\n",
    "if totalCost >= 1000:\n",
    "    print('Eligible for Discount')\n",
    "    costWithDiscount = totalCost * 0.1\n",
    "    print(\"Total cost for quantity {} is {}\".format(quantity,costWithDiscount))\n",
    "else:\n",
    "    print(\"\\nNot eligible for discount\")\n",
    "    print(\"Cost for {} quantity is {}\".format(quantity,totalCost))\n"
   ]
  },
  {
   "cell_type": "markdown",
   "metadata": {},
   "source": [
    "### 7. Take input of age of 3 people by user and determine oldest and youngest among them.\n"
   ]
  },
  {
   "cell_type": "code",
   "execution_count": 63,
   "metadata": {},
   "outputs": [
    {
     "name": "stdout",
     "output_type": "stream",
     "text": [
      "enter 1st number  : 4\n",
      "enter 2nd number  : 78\n",
      "enter 3rd number  : 34\n",
      "78 is oldest\n",
      "4 is youngest\n"
     ]
    }
   ],
   "source": [
    "number1 = int(input('enter 1st number  : '))\n",
    "number2 = int(input('enter 2nd number  : '))\n",
    "number3 = int(input('enter 3rd number  : '))\n",
    "if number1 == number2 == number3:\n",
    "    print('All are equal')\n",
    "else:\n",
    "    if number1 > number2:\n",
    "        if number1> number3:\n",
    "            print(number1, 'is oldest')\n",
    "            if number2 < number3:\n",
    "                print(number2, 'is youngest')\n",
    "            else:\n",
    "                print(number3,'is youngest')\n",
    "        else:\n",
    "            print(number3, 'is oldest')\n",
    "            if number2 < number1:\n",
    "                print(number2, 'is youngest')\n",
    "            else:\n",
    "                print(number1,'is youngest')\n",
    "    else:\n",
    "        if number2 > number3:\n",
    "            print(number2, 'is oldest')\n",
    "            if number3 < number1:\n",
    "                print(number3, 'is youngest')\n",
    "            else:\n",
    "                print(number1,'is youngest')\n",
    "            \n",
    "        else:\n",
    "            print(number3, 'is oldest')\n",
    "            if number2 < number1:\n",
    "                print(number2, 'is youngest')\n",
    "            else:\n",
    "                print(number1,'is youngest')"
   ]
  },
  {
   "cell_type": "markdown",
   "metadata": {},
   "source": [
    "### 8. A company decided to give a bonus of 5% to an employee if his/her year of service is more than 5 years. Ask user for their salary and year of service and print the net bonus amount."
   ]
  },
  {
   "cell_type": "code",
   "execution_count": 79,
   "metadata": {},
   "outputs": [
    {
     "name": "stdout",
     "output_type": "stream",
     "text": [
      "Enter years of experience : 6\n",
      "Input salary : 98\n",
      "Eligible for bonus\n",
      "Your new salary with bonus = 102.9\n"
     ]
    }
   ],
   "source": [
    "yearOfExp = float(input(\"Enter years of experience : \"))\n",
    "salary = float(input(\"Input salary : \"))\n",
    "\n",
    "if yearOfExp >= 5:\n",
    "    print(\"Eligible for bonus\")\n",
    "    bonus = salary + salary*0.05\n",
    "    print(\"Your new salary with bonus =\", bonus)\n",
    "else:\n",
    "    print(\"You are not eligible for Bonus, you have to complete 5 years\")\n",
    "    print(\"your salary remains same = \",salary)"
   ]
  },
  {
   "cell_type": "markdown",
   "metadata": {},
   "source": [
    "### 9. Write a program to check if a year is leap year or not.If a year is divisible by 4 then it is leap year but if the year is a century year like 2000, 1900, 2100 then it must be divisible by 400."
   ]
  },
  {
   "cell_type": "code",
   "execution_count": 118,
   "metadata": {},
   "outputs": [
    {
     "name": "stdout",
     "output_type": "stream",
     "text": [
      "Enter a year : 1900\n",
      "1900 is not a leap year\n"
     ]
    }
   ],
   "source": [
    "year = int(input(\"Enter a year : \"))\n",
    "\n",
    "if year % 4 == 0:\n",
    "    if year % 100 == 0:\n",
    "        if year % 400 == 0:\n",
    "            print(year, 'is a leap year')\n",
    "        else:\n",
    "            print(year, 'is not a leap year')\n",
    "    else:\n",
    "        print(year,'is not a leap year')\n",
    "else:\n",
    "    print(year,'is not a leap year')\n",
    "    "
   ]
  },
  {
   "cell_type": "markdown",
   "metadata": {},
   "source": [
    "### 10. Accept d1 and d2 as input. First, check to see that they are in the proper range for dice. If not, print a message. Otherwise, determine the outcome if this is the come out roll. If the sum is 7 or 11, print the winner. If the sum is 2, 3 or 12, print loser. Otherwise print the point."
   ]
  },
  {
   "cell_type": "code",
   "execution_count": 133,
   "metadata": {},
   "outputs": [
    {
     "name": "stdout",
     "output_type": "stream",
     "text": [
      "Enter num1 : 6\n",
      "Enter num2 : 6\n",
      "entered numbers are in range 1 - 6\n",
      "Sum is :  12\n",
      "looser\n"
     ]
    }
   ],
   "source": [
    "d1 = int(input(\"Enter num1 : \"))\n",
    "d2 = int(input(\"Enter num2 : \"))\n",
    "\n",
    "if d1 in range(1,7) and d2 in range(1,7):\n",
    "    print('entered numbers are in range 1 - 6')\n",
    "    sum = d1 + d2\n",
    "    if sum in (7,11):\n",
    "        print('Sum is : ',sum)\n",
    "        print(\"Winner\")\n",
    "    elif sum in (2,3,12):\n",
    "        print('Sum is : ',sum)\n",
    "        print('looser')\n",
    "    else:\n",
    "        print('Point is  :',sum)    \n",
    "else:\n",
    "    print(\"Entered numbers are not in range 1 - 6\")"
   ]
  },
  {
   "cell_type": "markdown",
   "metadata": {},
   "source": [
    "### 11. Write a python program to display the number of days in a month name from the given list of months or month number entered by user."
   ]
  },
  {
   "cell_type": "code",
   "execution_count": 136,
   "metadata": {},
   "outputs": [
    {
     "name": "stdout",
     "output_type": "stream",
     "text": [
      "enter first 3 letters of the month : oik\n",
      "Invalid month\n"
     ]
    }
   ],
   "source": [
    "month = input(\"enter first 3 letters of the month : \").lower()\n",
    "\n",
    "if month in ('jan','mar','may','jul','aug','oct','dec'):\n",
    "    print(month,' has 31 days')\n",
    "elif month in ('apr','jun','sep','nov'):\n",
    "    print(month, ' has 30 days')\n",
    "elif month == 'feb':\n",
    "    print(month,' has 28/29 days')\n",
    "else:\n",
    "    print('Invalid month')"
   ]
  },
  {
   "cell_type": "code",
   "execution_count": 144,
   "metadata": {},
   "outputs": [
    {
     "name": "stdout",
     "output_type": "stream",
     "text": [
      "Enter a year : 1900\n",
      "1900 is not a leap year\n",
      "enter the month [1-12]: 12\n",
      "12  has 31 days\n",
      "Enter day [1-31] : 31\n",
      "The next date is [yyyy-mm-dd] 1901-1-1.\n"
     ]
    }
   ],
   "source": [
    "year = int(input(\"Enter a year : \"))\n",
    "month_length = 1\n",
    "if year % 4 == 0:\n",
    "    if year % 100 == 0:\n",
    "        if year % 400 == 0:\n",
    "            print(year, 'is a leap year')\n",
    "            leap_year = True\n",
    "        else:\n",
    "            print(year, 'is not a leap year')\n",
    "            leap_year = False\n",
    "    else:\n",
    "        print(year,'is not a leap year')\n",
    "        leap_year = False\n",
    "else:\n",
    "    print(year,'is not a leap year')\n",
    "    leap_year = False\n",
    "    \n",
    "month = int(input(\"enter the month [1-12]: \"))\n",
    "\n",
    "if month in (1,3,5,7,8,10,12):\n",
    "    print(month,' has 31 days')\n",
    "    month_length = 31\n",
    "elif month in (4,6,9,11):\n",
    "    print(month, ' has 30 days')\n",
    "    month_length = 30\n",
    "elif month == 2:\n",
    "    if leap_year:\n",
    "        print(year,' is leap year has 29 days')\n",
    "        month_length = 29\n",
    "    else:\n",
    "        print(year,' is not leap year, has 28 days')\n",
    "        month_length = 28        \n",
    "\n",
    "    \n",
    "\n",
    "day = int(input('Enter day [1-31] : '))\n",
    "\n",
    "if day < month_length:\n",
    "    day+=1\n",
    "else:\n",
    "    day = 1\n",
    "    if month == 12:\n",
    "        month = 1\n",
    "        year +=1\n",
    "    else:\n",
    "        month+=1\n",
    "print(\"The next date is [yyyy-mm-dd] %d-%d-%d.\" % (year, month, day))"
   ]
  },
  {
   "cell_type": "code",
   "execution_count": null,
   "metadata": {},
   "outputs": [],
   "source": []
  }
 ],
 "metadata": {
  "kernelspec": {
   "display_name": "Python 3",
   "language": "python",
   "name": "python3"
  },
  "language_info": {
   "codemirror_mode": {
    "name": "ipython",
    "version": 3
   },
   "file_extension": ".py",
   "mimetype": "text/x-python",
   "name": "python",
   "nbconvert_exporter": "python",
   "pygments_lexer": "ipython3",
   "version": "3.8.3"
  }
 },
 "nbformat": 4,
 "nbformat_minor": 4
}
