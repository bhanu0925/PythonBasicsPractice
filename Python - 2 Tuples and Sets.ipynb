{
 "cells": [
  {
   "cell_type": "markdown",
   "metadata": {},
   "source": [
    "# 1. Write a Python program to add an item in a tuple."
   ]
  },
  {
   "cell_type": "code",
   "execution_count": 48,
   "metadata": {},
   "outputs": [
    {
     "name": "stdout",
     "output_type": "stream",
     "text": [
      "tuple before adding an item (2, 3, 4, 7)\n",
      "tuple after adding an item (2, 3, 4, 7, 9)\n"
     ]
    }
   ],
   "source": [
    "tup1 = (2,3,4,7)\n",
    "print('tuple before adding an item', tup1)\n",
    "tup1 = tup1 + (9,)\n",
    "print('tuple after adding an item', tup1)\n"
   ]
  },
  {
   "cell_type": "markdown",
   "metadata": {},
   "source": [
    "# 2. Write a Python program to reverse a tuple."
   ]
  },
  {
   "cell_type": "code",
   "execution_count": 26,
   "metadata": {},
   "outputs": [
    {
     "name": "stdout",
     "output_type": "stream",
     "text": [
      "(7, 4, 3, 2)\n"
     ]
    }
   ],
   "source": [
    "tup1 = (2,3,4,7)\n",
    "revTup = reversed(tup1)\n",
    "print(tuple(revTup))"
   ]
  },
  {
   "cell_type": "markdown",
   "metadata": {},
   "source": [
    "# 3. Swap the following two tuples\n",
    "tuple1 = (11, 22)\n",
    "\n",
    "tuple2 = (99, 88)"
   ]
  },
  {
   "cell_type": "code",
   "execution_count": 34,
   "metadata": {},
   "outputs": [
    {
     "name": "stdout",
     "output_type": "stream",
     "text": [
      "tuple1 before swap : (11, 22)\n",
      "tuple2 before swap : (99, 88)\n",
      "tuple1 after swap: (99, 88)\n",
      "tuple2 after swap: (11, 22)\n"
     ]
    }
   ],
   "source": [
    "tuple1 = (11,22)\n",
    "tuple2 = (99,88)\n",
    "\n",
    "print('tuple1 before swap :',tuple1)\n",
    "print('tuple2 before swap :',tuple2)\n",
    "\n",
    "tupletmp = tuple1\n",
    "tuple1 = tuple2\n",
    "tuple2 = tupletmp\n",
    "\n",
    "print('tuple1 after swap:',tuple1)\n",
    "print('tuple2 after swap:',tuple2)"
   ]
  },
  {
   "cell_type": "markdown",
   "metadata": {},
   "source": [
    "# 4. Modify the first item (22) of a list inside a following tuple to 222\n",
    "## tuple1 = (11, [22, 33], 44, 55)"
   ]
  },
  {
   "cell_type": "code",
   "execution_count": 40,
   "metadata": {},
   "outputs": [
    {
     "name": "stdout",
     "output_type": "stream",
     "text": [
      "Updated list values in the tuple (11, [222, 33], 44, 55)\n"
     ]
    }
   ],
   "source": [
    "tuple1 = (11, [22, 33], 44, 55)\n",
    "tuple1[1][0] = 222\n",
    "print('Updated list values in the tuple',tuple1)"
   ]
  },
  {
   "cell_type": "markdown",
   "metadata": {},
   "source": [
    "# 5. Write a Python program to unpack a tuple in several variables"
   ]
  },
  {
   "cell_type": "code",
   "execution_count": 47,
   "metadata": {},
   "outputs": [
    {
     "name": "stdout",
     "output_type": "stream",
     "text": [
      " a : 2\n",
      " b : 4\n",
      " c : 5\n",
      " d : 6\n"
     ]
    }
   ],
   "source": [
    "tup1 = (2,4,5,6)\n",
    "a, b, c, d = tup1\n",
    "print(' a : {}\\n b : {}\\n c : {}\\n d : {}'.format(a,b,c,d))"
   ]
  },
  {
   "cell_type": "markdown",
   "metadata": {},
   "source": [
    "# 6. Write a Python program to add member(s) in an empty set."
   ]
  },
  {
   "cell_type": "code",
   "execution_count": 63,
   "metadata": {},
   "outputs": [
    {
     "name": "stdout",
     "output_type": "stream",
     "text": [
      "{2, 3, 4, 5}\n"
     ]
    }
   ],
   "source": [
    "set1 = set()\n",
    "type(set1)\n",
    "set1.add(2)\n",
    "set1.add(3)\n",
    "set1.update([4,5])\n",
    "print(set1)"
   ]
  },
  {
   "cell_type": "markdown",
   "metadata": {},
   "source": [
    "# 7. Write a Python program to create an intersection of sets"
   ]
  },
  {
   "cell_type": "code",
   "execution_count": 74,
   "metadata": {},
   "outputs": [
    {
     "name": "stdout",
     "output_type": "stream",
     "text": [
      "set1 {2, 3, 4, 6, 7, 8}\n",
      "set2 {1, 3, 4, 7, 9, 10}\n",
      "intersection of set1 and set 2  {3, 4, 7}\n"
     ]
    }
   ],
   "source": [
    "set1 = set([2,3,4,6,7,8])\n",
    "set2 = set([3,7,9,4,1,10])\n",
    "inter= set1.intersection(set2)\n",
    "print('set1',set1)\n",
    "print('set2',set2)\n",
    "print('intersection of set1 and set 2 ',inter)"
   ]
  },
  {
   "cell_type": "markdown",
   "metadata": {},
   "source": [
    "# 8. Write a Python program to create a symmetric difference (or disjunctive union) in sets."
   ]
  },
  {
   "cell_type": "code",
   "execution_count": 81,
   "metadata": {},
   "outputs": [
    {
     "name": "stdout",
     "output_type": "stream",
     "text": [
      "set1 {'White', 'Blue', 'Red'}\n",
      "set2 {'Yellow', 'Blue', 'Green'}\n",
      "Symmetric difference is  {'White', 'Green', 'Red', 'Yellow'}\n"
     ]
    }
   ],
   "source": [
    "set1 = set([\"Red\",\"Blue\",\"White\"])\n",
    "set2 = set([\"Blue\",\"Green\",\"Yellow\"])\n",
    "print('set1',set1)\n",
    "print('set2',set2)\n",
    "symmetric_diff = set1.symmetric_difference(set2) \n",
    "#symmetric_diff = set1 ^ set2\n",
    "print('Symmetric difference is ',symmetric_diff)"
   ]
  },
  {
   "cell_type": "markdown",
   "metadata": {},
   "source": [
    "# 9. Return a set of identical items from a given two Python set\n",
    "## set1 = [10, 20, 30, 40, 50]\n",
    "## set2 = [30, 40, 50, 60, 70]"
   ]
  },
  {
   "cell_type": "code",
   "execution_count": 89,
   "metadata": {},
   "outputs": [
    {
     "name": "stdout",
     "output_type": "stream",
     "text": [
      "set1 {40, 10, 50, 20, 30}\n",
      "set2 {70, 40, 50, 60, 30}\n",
      "Identical items (intersection)  {40, 50, 30}\n"
     ]
    }
   ],
   "source": [
    "set1 = set([10, 20, 30, 40, 50])\n",
    "set2 = set([30, 40, 50, 60, 70])\n",
    "print('set1',set1)\n",
    "print('set2',set2)\n",
    "inter= set1.intersection(set2)\n",
    "print('Identical items (intersection) ',inter)"
   ]
  },
  {
   "cell_type": "markdown",
   "metadata": {},
   "source": [
    "# 10. Remove 10, 20, 30 elements from a following set at once\n",
    "## set1 = {10, 20, 30, 40, 50}"
   ]
  },
  {
   "cell_type": "code",
   "execution_count": 105,
   "metadata": {},
   "outputs": [
    {
     "name": "stdout",
     "output_type": "stream",
     "text": [
      "set1 : {40, 10, 50, 20, 30}\n",
      "set2 - items to be deleted : {10, 20, 30}\n",
      "removed elements 10,20,30 from the set1 {40, 50}\n",
      "removed elements 10,20,30 from the set1 {40, 50}\n"
     ]
    }
   ],
   "source": [
    "set1 = set([10,20,30,40,50])\n",
    "set2 = set([10,20,30])\n",
    "print('set1 :',set1)\n",
    "print('set2 - items to be deleted :',set2)\n",
    "dif_set = set1 -set2\n",
    "print('removed elements 10,20,30 from the set1',dif_set)\n",
    "\n",
    "# or \n",
    "\n",
    "set1.difference_update(set2)\n",
    "print('removed elements 10,20,30 from the set1',set1)"
   ]
  },
  {
   "cell_type": "markdown",
   "metadata": {},
   "source": [
    "# 11. Access value 20 from the following tuple\n",
    "## example = (\"Pooja\", [10, 20, 30], (25, 50, 15))"
   ]
  },
  {
   "cell_type": "code",
   "execution_count": 110,
   "metadata": {},
   "outputs": [
    {
     "name": "stdout",
     "output_type": "stream",
     "text": [
      "Accessing value 20 from tuple -:  20\n"
     ]
    }
   ],
   "source": [
    "tup1 = (\"Pooja\", [10, 20, 30], (25, 50, 15))\n",
    "print('Accessing value 20 from tuple -: ',tup1[1][1])"
   ]
  },
  {
   "cell_type": "markdown",
   "metadata": {},
   "source": [
    "# 12. Count the number of occurrences of item 50 from a tuple\n",
    "## numbers = (50, 10, 60, 70, 50)"
   ]
  },
  {
   "cell_type": "code",
   "execution_count": 115,
   "metadata": {},
   "outputs": [
    {
     "name": "stdout",
     "output_type": "stream",
     "text": [
      "tuple :  (50, 10, 60, 70, 50)\n",
      "Occurrences of item 50 in tuple :  2\n"
     ]
    }
   ],
   "source": [
    "numbers = (50, 10, 60, 70, 50)\n",
    "print('tuple : ', numbers)\n",
    "print(\"Occurrences of item 50 in tuple : \",numbers.count(50))"
   ]
  },
  {
   "cell_type": "code",
   "execution_count": null,
   "metadata": {},
   "outputs": [],
   "source": []
  }
 ],
 "metadata": {
  "kernelspec": {
   "display_name": "Python 3",
   "language": "python",
   "name": "python3"
  },
  "language_info": {
   "codemirror_mode": {
    "name": "ipython",
    "version": 3
   },
   "file_extension": ".py",
   "mimetype": "text/x-python",
   "name": "python",
   "nbconvert_exporter": "python",
   "pygments_lexer": "ipython3",
   "version": "3.8.3"
  }
 },
 "nbformat": 4,
 "nbformat_minor": 4
}
