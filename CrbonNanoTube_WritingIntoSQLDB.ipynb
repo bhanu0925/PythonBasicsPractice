{
 "cells": [
  {
   "cell_type": "code",
   "execution_count": 1,
   "metadata": {},
   "outputs": [],
   "source": [
    "import csv"
   ]
  },
  {
   "cell_type": "markdown",
   "metadata": {},
   "source": [
    "### Reading the raw Carbon nanotube raw dataset"
   ]
  },
  {
   "cell_type": "code",
   "execution_count": 30,
   "metadata": {},
   "outputs": [],
   "source": [
    "## adjusting the data in to columns , total 8 attributes\n",
    "## splitting the data with delimiter ;\n",
    "\n",
    "file_in_list = []\n",
    "with open(\"carbon_nanotubes.csv\", 'r') as file:\n",
    "    data = csv.reader(file,delimiter = '\\n')\n",
    "    #header = next(data)\n",
    "    #print(header)\n",
    "    for i in data:\n",
    "        file_in_list.append(i[0].split(';'))        \n"
   ]
  },
  {
   "cell_type": "markdown",
   "metadata": {},
   "source": [
    "### writing the updated data in to csv file"
   ]
  },
  {
   "cell_type": "code",
   "execution_count": 24,
   "metadata": {},
   "outputs": [],
   "source": [
    "## writing the updated data in to csv file\n",
    "with open('CarbonUpdatedFile.csv', 'w', newline='') as data:\n",
    "    writer = csv.writer(data)\n",
    "    writer.writerows(file_in_list)"
   ]
  },
  {
   "cell_type": "markdown",
   "metadata": {},
   "source": [
    "### Creating a database in MySQL"
   ]
  },
  {
   "cell_type": "code",
   "execution_count": 25,
   "metadata": {},
   "outputs": [
    {
     "name": "stdout",
     "output_type": "stream",
     "text": [
      "Database Created!!\n"
     ]
    }
   ],
   "source": [
    "import mysql.connector as connection\n",
    "\n",
    "try:\n",
    "    #mydb = connection.connect(host=\"127.0.0.1\",user=\"root\", passwd=\"1Bhanu*1\",use_pure=True)\n",
    "    mydb = connection.connect(host=\"localhost\",user=\"root\", passwd=\"1Bhanu*1\",use_pure=True)\n",
    "    # check if the connection is established\n",
    "\n",
    "    query = \"Create database CarbonNanoTube;\"\n",
    "\n",
    "    cursor = mydb.cursor() #create a cursor to execute queries\n",
    "    cursor.execute(query)\n",
    "    print(\"Database Created!!\")    \n",
    "\n",
    "except Exception as e:\n",
    "    mydb.close()\n",
    "    print(str(e))"
   ]
  },
  {
   "cell_type": "markdown",
   "metadata": {},
   "source": [
    "### Creating a table"
   ]
  },
  {
   "cell_type": "code",
   "execution_count": 27,
   "metadata": {},
   "outputs": [
    {
     "name": "stdout",
     "output_type": "stream",
     "text": [
      "CREATE TABLE CarbonNanoTube.NanoTubeDetails (Chiralindicen INT,Chiralindicem INT,Initialatomiccoordinateu varchar(20), Initialatomiccoordinatev varchar(20),Initialatomiccoordinatew varchar(20), Calculatedatomiccoordinatesu varchar(20), Calculatedatomiccoordinatesv varchar(20), Calculatedatomiccoordinatesw varchar(20));\n"
     ]
    }
   ],
   "source": [
    "query = \"CREATE TABLE CarbonNanoTube.NanoTubeDetails (Chiralindicen INT,Chiralindicem INT,Initialatomiccoordinateu varchar(20), Initialatomiccoordinatev varchar(20),Initialatomiccoordinatew varchar(20), Calculatedatomiccoordinatesu varchar(20), Calculatedatomiccoordinatesv varchar(20), Calculatedatomiccoordinatesw varchar(20));\"\n",
    "print(query)"
   ]
  },
  {
   "cell_type": "code",
   "execution_count": 28,
   "metadata": {},
   "outputs": [
    {
     "name": "stdout",
     "output_type": "stream",
     "text": [
      "Table Created!!\n"
     ]
    }
   ],
   "source": [
    "cursor = mydb.cursor() #create a cursor to execute queries\n",
    "cursor.execute(query)\n",
    "print(\"Table Created!!\")"
   ]
  },
  {
   "cell_type": "markdown",
   "metadata": {},
   "source": [
    "### Inserting data into Table"
   ]
  },
  {
   "cell_type": "code",
   "execution_count": 29,
   "metadata": {},
   "outputs": [
    {
     "name": "stdout",
     "output_type": "stream",
     "text": [
      "<_csv.reader object at 0x0000016593CF4580>\n",
      "Values inserted\n"
     ]
    }
   ],
   "source": [
    "with open('CarbonUpdatedFile.csv','r') as data:\n",
    "    #next(data)\n",
    "    data_csv = csv.reader(data, delimiter = '\\n')\n",
    "    next(data_csv)\n",
    "    print(data_csv)\n",
    "    for j in data_csv:\n",
    "        query = \"INSERT INTO CarbonNanoTube.NanoTubeDetails values ({});\".format(', '.join([value for value in j]))\n",
    "        cursor.execute(query)\n",
    "mydb.commit()\n",
    "print(\"Values inserted\")            "
   ]
  },
  {
   "cell_type": "markdown",
   "metadata": {},
   "source": [
    "### Inserted tables values from Sql work Bench"
   ]
  },
  {
   "cell_type": "markdown",
   "metadata": {},
   "source": [
    "<img src=\"Carbon_nano_Sql.png\" width=\"900\"/>"
   ]
  }
 ],
 "metadata": {
  "kernelspec": {
   "display_name": "Python 3",
   "language": "python",
   "name": "python3"
  },
  "language_info": {
   "codemirror_mode": {
    "name": "ipython",
    "version": 3
   },
   "file_extension": ".py",
   "mimetype": "text/x-python",
   "name": "python",
   "nbconvert_exporter": "python",
   "pygments_lexer": "ipython3",
   "version": "3.8.3"
  }
 },
 "nbformat": 4,
 "nbformat_minor": 4
}
